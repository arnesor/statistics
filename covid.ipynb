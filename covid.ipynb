{
 "cells": [
  {
   "cell_type": "markdown",
   "metadata": {
    "pycharm": {
     "name": "#%% md\n"
    }
   },
   "source": [
    "# Statistics plotted on a map of municipalities in Norway\n",
    "This notebook is a first attempt to display municipality statistics as a color coded map.\n",
    "At the moment it shows COVID-19 cases for 2021 for the area around Eidskog.\n",
    "\n",
    "## Installing requirements\n",
    "If you are on Windows and not using Anaconda, you need to run the following commands before installing packages from\n",
    "requirements.txt:\n",
    "```shell\n",
    "pip install wheel pipwin\n",
    "pipwin install gdal\n",
    "pipwin install fiona\n",
    "```\n",
    "Install dependencies from requirements.txt:\n",
    "```shell\n",
    "pip install -r requirements.txt\n",
    "```"
   ]
  },
  {
   "cell_type": "code",
   "execution_count": null,
   "metadata": {},
   "outputs": [],
   "source": [
    "# Imports and common functions\n",
    "import ast\n",
    "import json\n",
    "\n",
    "import geopandas as gpd\n",
    "import pandas as pd\n",
    "from bokeh.io import output_notebook, show\n",
    "from bokeh.models import GeoJSONDataSource, LinearColorMapper, ColorBar, HoverTool\n",
    "from bokeh.palettes import brewer\n",
    "from bokeh.plotting import figure\n",
    "\n",
    "%matplotlib inline\n",
    "\n",
    "\n",
    "def get_municipality(municipality_string):\n",
    "    res = ast.literal_eval(municipality_string)\n",
    "    return res[0]['navn']"
   ]
  },
  {
   "cell_type": "markdown",
   "metadata": {
    "pycharm": {
     "name": "#%% md\n"
    }
   },
   "source": [
    "## Get municipality borders\n",
    "\n",
    "The geometry of the Norwegian municipalities in GeoJSON format can be found on\n",
    "[this blog](https://www.eriksmistad.no/norges-fylker-og-kommuner-i-geojson-format/).\n",
    "The source is [GeoNorge](https://www.geonorge.no/), but it is using the EPSG:3857-projection (instead of UTM zone 33),\n",
    "and has a reduced number of coordinates."
   ]
  },
  {
   "cell_type": "code",
   "execution_count": null,
   "metadata": {
    "pycharm": {
     "name": "#%%\n"
    }
   },
   "outputs": [],
   "source": [
    "#df_geo = gpd.read_file('kommuner_komprimert.json')[['kommunenummer', 'navn', 'geometry']]\n",
    "df_geo = gpd.read_file('Kommuner-large.json')\n",
    "\n",
    "# Convert to UTM Zone 33 North\n",
    "df_geo = df_geo.to_crs('epsg:3395')\n",
    "\n",
    "# Extract the municipality name and use it as a column name\n",
    "#df_geo['navn'] = df_geo['navn'].apply(lambda x: get_municipality(x))\n",
    "df_geo.rename(columns = {'navn': 'kommune_geo'}, inplace = True)\n",
    "df_geo.tail()\n",
    "\n",
    "#df_geo.dropna(inplace=True)\n",
    "#df_geo.info()\n",
    "#df_geo[df_geo['geometry'].isnull()]"
   ]
  },
  {
   "cell_type": "code",
   "execution_count": null,
   "metadata": {
    "pycharm": {
     "name": "#%%\n"
    }
   },
   "outputs": [],
   "source": [
    "df_geo.plot()\n",
    "\n",
    "eidskog_area = [\n",
    "    'Eidskog',\n",
    "    'Kongsvinger',\n",
    "    'Grue',\n",
    "    'Aurskog-Høland',\n",
    "    'Sør-Odal',\n",
    "    'Nord-Odal',\n",
    "    'Nes'\n",
    "]\n",
    "\n",
    "filtered_df_geo = df_geo[df_geo.kommune_geo.isin(eidskog_area)]\n",
    "#filtered_df_geo = df_geo\n",
    "filtered_df_geo.head()\n",
    "filtered_df_geo.plot()\n",
    "\n",
    "# Plot Eidskog only\n",
    "#df_geo['geometry'][96]"
   ]
  },
  {
   "cell_type": "markdown",
   "metadata": {},
   "source": [
    "## Get COVID-19 cases\n",
    "\n",
    "The official numbers of COVID-19 cases for Norway can be found at https://statistikk.fhi.no/.\n",
    "I haven't found any api, but you can download cvs files.\n",
    "\n",
    "Select \"Smittsomme sykdommer (MSIS)\" and \"Lag din egen tabell\". In the left selection box,\n",
    "select \"Sykdom\", \"Alvorlige, systemiske sykdommer\", \"Koronavirus med utbruddspotensial\".\n",
    "In the right selection box, select \"Geografi\".\n",
    "\n",
    "It is not possible to download data for all municipalities at once. Select municipalities in\n",
    "two to three counties and push the \"Last ned\"-button. The downloaded csv files must be merged manually."
   ]
  },
  {
   "cell_type": "code",
   "execution_count": null,
   "metadata": {
    "pycharm": {
     "name": "#%%\n"
    }
   },
   "outputs": [],
   "source": [
    "msis_df = pd.read_csv('2021-04-02.Tilfeller-etter-sykdom-fordelt-paa-geografi-2021-Totalt.csv', sep = ';', skiprows = 1)\n",
    "new_column_names = {'Unnamed: 0': 'kommune',\n",
    "                    'Koronavirus med utbruddspotensial, Mars': 'Mars',\n",
    "                    'Koronavirus med utbruddspotensial, Januar': 'Januar',\n",
    "                    'Koronavirus med utbruddspotensial, Februar': 'Februar'}\n",
    "msis_df.rename(columns = new_column_names, inplace = True)\n",
    "msis_df.head()\n",
    "#msis_df.info()"
   ]
  },
  {
   "cell_type": "markdown",
   "metadata": {
    "pycharm": {
     "name": "#%% md\n"
    }
   },
   "source": [
    "## Get population\n",
    "\n",
    "The population numbers for each municipality is retrieved from Statistics Norway, using the api for\n",
    "predefined datasets: https://data.ssb.no/api/v0/dataset/, table id 26975."
   ]
  },
  {
   "cell_type": "code",
   "execution_count": null,
   "metadata": {
    "pycharm": {
     "name": "#%%\n"
    }
   },
   "outputs": [],
   "source": [
    "# Get latest municipality population\n",
    "population = pd.read_csv(\"https://data.ssb.no/api/v0/dataset/26975.csv?lang=en\", encoding=\"ISO-8859-1\", header=0,\n",
    "                         names=['region', 'year', 'contents', 'population'], usecols=['region', 'year', 'population'])\n",
    "\n",
    "# Only keep data for latest year\n",
    "latest_year = population['year'].max()\n",
    "population = population[population.year == latest_year]\n",
    "\n",
    "# Drop non-mainland municipalities and categories\n",
    "population = population[~population.region.str.startswith('K-21-22 ')]\n",
    "population = population[~population.region.str.startswith('K-23 ')]\n",
    "population = population[~population.region.str.startswith('K-Rest ')]\n",
    "\n",
    "# Extract kommunenummer and kommune, and clean up\n",
    "population[['kommunenummer', 'kommune_ssb']] = population['region'].str.split(' ', 1, expand=True)\n",
    "population['kommunenummer'] = population['kommunenummer'].str[2:]\n",
    "population['kommunenummer'] = population['kommunenummer'].astype('int64')\n",
    "population.drop('region', axis=1, inplace=True)\n",
    "population = population[['kommunenummer', 'kommune_ssb', 'year', 'population']]\n",
    "\n",
    "# Fix bug in municipality Steinkjer\n",
    "if population.iloc[239,1] == 'teinkj':\n",
    "    population.iloc[239, 1] = 'Steinkjer'"
   ]
  },
  {
   "cell_type": "code",
   "execution_count": null,
   "metadata": {
    "pycharm": {
     "name": "#%%\n"
    }
   },
   "outputs": [],
   "source": [
    "# Municipality population and border (mpb)\n",
    "mbp = df_geo.merge(population, left_on='kommunenummer', right_on='kommunenummer')\n",
    "#mbp[mbp['kommune_ssb'] != mbp['kommune_geo']]\n",
    "\n",
    "# Keep municipality names from geo (without Sami names),\n",
    "# except for municipalities with the same names (parenthesis in ssb).\n",
    "def alter(kommune_ssb, kommune_geo):\n",
    "    if '(' in kommune_ssb:\n",
    "        return kommune_ssb\n",
    "    else:\n",
    "        return kommune_geo\n",
    "\n",
    "mbp['kommune_ssb'] = mbp.apply(lambda x: alter(x['kommune_ssb'], x['kommune_geo']), axis=1)\n",
    "mbp.drop(columns=['kommune_geo'], inplace=True)\n",
    "mbp.rename(columns={'kommune_ssb': 'kommune'}, inplace=True)\n",
    "mbp.tail()\n",
    "mbp.to_csv('municipality_border_and_population.csv')\n"
   ]
  },
  {
   "cell_type": "code",
   "execution_count": null,
   "metadata": {
    "pycharm": {
     "name": "#%%\n"
    }
   },
   "outputs": [],
   "source": [
    "covid_df = mbp.merge(msis_df, left_on='kommune', right_on='kommune', how='left')\n",
    "\n",
    "# For MSIS data: Replace NaN with zero and convert to int datatype\n",
    "covid_df.fillna(0, inplace=True)\n",
    "covid_df = covid_df.astype({\"Januar\": int, \"Februar\": int, \"Mars\": int})\n",
    "\n",
    "covid_df['smittetrykk'] = covid_df['Mars'] / covid_df['population'] * 100000 * 14 / 31\n",
    "#covid_df.tail()\n"
   ]
  },
  {
   "cell_type": "markdown",
   "metadata": {},
   "source": [
    "Convert to GeoJSON:"
   ]
  },
  {
   "cell_type": "code",
   "execution_count": null,
   "metadata": {
    "pycharm": {
     "name": "#%%\n"
    }
   },
   "outputs": [],
   "source": [
    "#Read data to json.\n",
    "covid_df_json = json.loads(covid_df.to_json())\n",
    "#Convert to String like object.\n",
    "json_data = json.dumps(covid_df_json)"
   ]
  },
  {
   "cell_type": "markdown",
   "metadata": {},
   "source": [
    "Render our choropleth map using Bokeh:"
   ]
  },
  {
   "cell_type": "code",
   "execution_count": null,
   "metadata": {
    "pycharm": {
     "name": "#%%\n"
    }
   },
   "outputs": [],
   "source": [
    "\n",
    "#Input GeoJSON source that contains features for plotting.\n",
    "geosource = GeoJSONDataSource(geojson = json_data)\n",
    "\n",
    "#Define a sequential multi-hue color palette.\n",
    "palette = brewer['YlGnBu'][8]\n",
    "\n",
    "#Reverse color order so that dark blue is highest obesity.\n",
    "palette = palette[::-1]\n",
    "\n",
    "#Instantiate LinearColorMapper that linearly maps numbers in a range, into a sequence of colors.\n",
    "#color_mapper = LinearColorMapper(palette = palette, low = 0, high = covid_df['Mars'].max())\n",
    "color_mapper = LinearColorMapper(palette = palette, low = 0, high = 300)\n",
    "\n",
    "#Define custom tick labels for color bar.\n",
    "tick_labels = {'0': '0', '5': '5', '10':'10', '15':'15', '20':'20', '25':'25', '30':'30','35':'35', '40': '>40'}\n",
    "\n",
    "#Add hover tool\n",
    "hover = HoverTool(tooltips = [ ('Kommune','@kommune'), ('Smittede', '@Mars'), ('Smittetrykk', '@smittetrykk')])\n",
    "\n",
    "#Create color bar.\n",
    "# color_bar = ColorBar(color_mapper=color_mapper, label_standoff=8, width=500, height=20,\n",
    "#                      border_line_color=None, location=(0, 0), orientation='horizontal',\n",
    "#                      major_label_overrides=tick_labels)\n",
    "color_bar = ColorBar(color_mapper=color_mapper, label_standoff=8, width=500, height=20,\n",
    "                     border_line_color=None, location=(0, 0), orientation='horizontal')\n",
    "\n",
    "\n",
    "#Create figure object.\n",
    "#p = figure(title = 'Koronasmitte i kommunene rundt Eidskog, mars 2021', plot_height = 600 , plot_width = 950, toolbar_location = 'below', tools = [hover])\n",
    "p = figure(title = 'Smittetrykk mars 2021 (antall tilfeller pr. 100 000)', sizing_mode='scale_width', toolbar_location = 'left', tools = 'pan, wheel_zoom, reset')\n",
    "p.add_tools(hover)\n",
    "p.xgrid.grid_line_color = None\n",
    "p.ygrid.grid_line_color = None\n",
    "p.axis.visible = False\n",
    "\n",
    "#Add patch renderer to figure.\n",
    "p.patches('xs','ys', source = geosource,fill_color = {'field' :'smittetrykk', 'transform' : color_mapper},\n",
    "          line_color = 'black', line_width = 0.25, fill_alpha = 1)\n",
    "\n",
    "#Specify figure layout.\n",
    "p.add_layout(color_bar, 'below')\n",
    "\n",
    "#Display figure inline in Jupyter Notebook.\n",
    "output_notebook()\n",
    "\n",
    "#Display figure.\n",
    "show(p)"
   ]
  },
  {
   "cell_type": "code",
   "execution_count": null,
   "metadata": {
    "pycharm": {
     "name": "#%%\n"
    }
   },
   "outputs": [],
   "source": []
  }
 ],
 "metadata": {
  "kernelspec": {
   "display_name": "Python 3",
   "language": "python",
   "name": "python3"
  },
  "language_info": {
   "codemirror_mode": {
    "name": "ipython",
    "version": 3
   },
   "file_extension": ".py",
   "mimetype": "text/x-python",
   "name": "python",
   "nbconvert_exporter": "python",
   "pygments_lexer": "ipython3",
   "version": "3.8.10"
  }
 },
 "nbformat": 4,
 "nbformat_minor": 4
}
